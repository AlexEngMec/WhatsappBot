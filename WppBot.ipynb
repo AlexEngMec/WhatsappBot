{
 "cells": [
  {
   "cell_type": "markdown",
   "id": "c8334436-952f-424d-a0df-c5f71a9ab27d",
   "metadata": {},
   "source": [
    "## Main ideia\n",
    "\n",
    "Generate a bot that sends messages to a list of personal contacts"
   ]
  },
  {
   "cell_type": "markdown",
   "id": "16d9f997-c33b-47ca-ba9d-466069d68a25",
   "metadata": {},
   "source": [
    "### Import libraries"
   ]
  },
  {
   "cell_type": "code",
   "execution_count": null,
   "id": "fc990f9d-4a76-46a7-a790-9f5dd5107e7f",
   "metadata": {},
   "outputs": [],
   "source": [
    "import pandas as pd\n",
    "import time\n",
    "from selenium import webdriver\n",
    "from selenium.webdriver.common.keys import Keys"
   ]
  },
  {
   "cell_type": "markdown",
   "id": "a13b448b-c20e-4421-8918-0a5103c2f31b",
   "metadata": {},
   "source": [
    "### Open list of contacts"
   ]
  },
  {
   "cell_type": "code",
   "execution_count": null,
   "id": "872609e6-5142-4f79-8077-9436d4698ad8",
   "metadata": {},
   "outputs": [],
   "source": [
    "df = pd.read_excel(\"Lista Numero.xlsx\")"
   ]
  },
  {
   "cell_type": "markdown",
   "id": "53490963-eb90-498a-a068-52af392c842d",
   "metadata": {},
   "source": [
    "### Function to search contact"
   ]
  },
  {
   "cell_type": "code",
   "execution_count": null,
   "id": "e81108da-836a-4b61-ae9d-e55914cc315b",
   "metadata": {},
   "outputs": [],
   "source": [
    " def buscar_contato(contato): \n",
    "        campo_pesquisa = navegador.find_element_by_xpath('//*[@id=\"side\"]/div[1]/div/label/div/div[2]')\n",
    "        time.sleep(5)\n",
    "        campo_pesquisa.click()\n",
    "        campo_pesquisa.send_keys(contato)\n",
    "        campo_pesquisa.send_keys(Keys.ENTER)\n",
    "        campo_pesquisa.clear()"
   ]
  },
  {
   "cell_type": "markdown",
   "id": "d289a4f7-a11c-4518-8fc7-24f9cdbbf01d",
   "metadata": {},
   "source": [
    "### Function to send messages"
   ]
  },
  {
   "cell_type": "code",
   "execution_count": null,
   "id": "cd9426d2-4f86-49a1-b3dd-a84268b6dd6e",
   "metadata": {},
   "outputs": [],
   "source": [
    "def enviar_mensagem(mensagem):\n",
    "    campo_mensagem = navegador.find_element_by_xpath('//*[@id=\"main\"]/footer/div[1]/div[2]/div/div[2]')\n",
    "    time.sleep(5)\n",
    "    campo_mensagem.send_keys(mensagem)\n",
    "    time.sleep(5)\n",
    "    campo_mensagem.send_keys(Keys.ENTER)"
   ]
  },
  {
   "cell_type": "markdown",
   "id": "1f324fc2-b170-4e67-9f0d-19ee40c66584",
   "metadata": {},
   "source": [
    "### Enter WhatsappWeb"
   ]
  },
  {
   "cell_type": "code",
   "execution_count": null,
   "id": "5a69d8de-d2aa-4ad5-ba19-a61e7949aff7",
   "metadata": {},
   "outputs": [],
   "source": [
    "navegador = webdriver.Chrome()\n",
    "navegador.get(\"https://web.whatsapp.com/\")\n",
    "time.sleep(20)"
   ]
  },
  {
   "cell_type": "markdown",
   "id": "b5b8424d-fc7f-4532-bbd5-cbfde4aa9659",
   "metadata": {},
   "source": [
    "### Iterate over contacts"
   ]
  },
  {
   "cell_type": "code",
   "execution_count": null,
   "id": "c0d8030d-1253-4dab-b2ba-8d0884d06595",
   "metadata": {},
   "outputs": [],
   "source": [
    "for contato in enumerate(df['Name']):\n",
    "    \n",
    "        buscar_contato(contato)\n",
    "        \n",
    "        if navegador.find_element_by_xpath('//*[@id=\"main\"]/header/div[2]/div/div/span').get_property('title') != contato:\n",
    "            continue\n",
    "        else:\n",
    "                mensagem = 'Here a message'\n",
    "                enviar_mensagem(mensagem)\n",
    "        time.sleep(5)"
   ]
  }
 ],
 "metadata": {
  "kernelspec": {
   "display_name": "Python 3 (ipykernel)",
   "language": "python",
   "name": "python3"
  },
  "language_info": {
   "codemirror_mode": {
    "name": "ipython",
    "version": 3
   },
   "file_extension": ".py",
   "mimetype": "text/x-python",
   "name": "python",
   "nbconvert_exporter": "python",
   "pygments_lexer": "ipython3",
   "version": "3.8.8"
  }
 },
 "nbformat": 4,
 "nbformat_minor": 5
}
